{
 "cells": [
  {
   "cell_type": "code",
   "execution_count": 1,
   "metadata": {},
   "outputs": [],
   "source": [
    "import pandas as pd\n",
    "import os,shutil,math,scipy,cv2\n",
    "import numpy as np\n",
    "import matplotlib.pyplot as plt\n",
    "import random as rn"
   ]
  },
  {
   "cell_type": "code",
   "execution_count": 2,
   "metadata": {},
   "outputs": [],
   "source": [
    "from sklearn.utils import shuffle\n",
    "from sklearn.metrics import classification_report\n",
    "from sklearn.model_selection import train_test_split\n",
    "from sklearn.preprocessing import LabelEncoder\n",
    "from sklearn.metrics import confusion_matrix,roc_curve,auc"
   ]
  },
  {
   "cell_type": "code",
   "execution_count": 3,
   "metadata": {},
   "outputs": [],
   "source": [
    "from PIL import Image\n",
    "from PIL import Image as pil_image\n",
    "from PIL import ImageDraw"
   ]
  },
  {
   "cell_type": "code",
   "execution_count": 4,
   "metadata": {},
   "outputs": [],
   "source": [
    "from time import time\n",
    "from glob import glob\n",
    "from tqdm import tqdm\n",
    "from skimage.io import imread\n",
    "from IPython.display import SVG"
   ]
  },
  {
   "cell_type": "code",
   "execution_count": 5,
   "metadata": {},
   "outputs": [],
   "source": [
    "from scipy import misc,ndimage\n",
    "from scipy.ndimage.interpolation import zoom\n",
    "import imread"
   ]
  },
  {
   "cell_type": "code",
   "execution_count": 6,
   "metadata": {},
   "outputs": [
    {
     "name": "stderr",
     "output_type": "stream",
     "text": [
      "Using TensorFlow backend.\n",
      "/home/lavishgulati/.local/lib/python3.6/site-packages/tensorflow/python/framework/dtypes.py:526: FutureWarning: Passing (type, 1) or '1type' as a synonym of type is deprecated; in a future version of numpy, it will be understood as (type, (1,)) / '(1,)type'.\n",
      "  _np_qint8 = np.dtype([(\"qint8\", np.int8, 1)])\n",
      "/home/lavishgulati/.local/lib/python3.6/site-packages/tensorflow/python/framework/dtypes.py:527: FutureWarning: Passing (type, 1) or '1type' as a synonym of type is deprecated; in a future version of numpy, it will be understood as (type, (1,)) / '(1,)type'.\n",
      "  _np_quint8 = np.dtype([(\"quint8\", np.uint8, 1)])\n",
      "/home/lavishgulati/.local/lib/python3.6/site-packages/tensorflow/python/framework/dtypes.py:528: FutureWarning: Passing (type, 1) or '1type' as a synonym of type is deprecated; in a future version of numpy, it will be understood as (type, (1,)) / '(1,)type'.\n",
      "  _np_qint16 = np.dtype([(\"qint16\", np.int16, 1)])\n",
      "/home/lavishgulati/.local/lib/python3.6/site-packages/tensorflow/python/framework/dtypes.py:529: FutureWarning: Passing (type, 1) or '1type' as a synonym of type is deprecated; in a future version of numpy, it will be understood as (type, (1,)) / '(1,)type'.\n",
      "  _np_quint16 = np.dtype([(\"quint16\", np.uint16, 1)])\n",
      "/home/lavishgulati/.local/lib/python3.6/site-packages/tensorflow/python/framework/dtypes.py:530: FutureWarning: Passing (type, 1) or '1type' as a synonym of type is deprecated; in a future version of numpy, it will be understood as (type, (1,)) / '(1,)type'.\n",
      "  _np_qint32 = np.dtype([(\"qint32\", np.int32, 1)])\n",
      "/home/lavishgulati/.local/lib/python3.6/site-packages/tensorflow/python/framework/dtypes.py:535: FutureWarning: Passing (type, 1) or '1type' as a synonym of type is deprecated; in a future version of numpy, it will be understood as (type, (1,)) / '(1,)type'.\n",
      "  np_resource = np.dtype([(\"resource\", np.ubyte, 1)])\n"
     ]
    }
   ],
   "source": [
    "from keras import backend as K\n",
    "from keras.utils.np_utils import to_categorical\n",
    "from keras import layers\n",
    "from keras.preprocessing.image import save_img\n",
    "from keras.utils.vis_utils import model_to_dot\n",
    "from keras.applications.vgg16 import VGG16,preprocess_input\n",
    "from keras.models import Sequential,Input,Model\n",
    "from keras.layers import Dense,Flatten,Dropout,Concatenate,GlobalAveragePooling2D,Lambda,ZeroPadding2D\n",
    "from keras.layers import SeparableConv2D,BatchNormalization,MaxPooling2D,Conv2D\n",
    "from keras.preprocessing.image import ImageDataGenerator\n",
    "from keras.optimizers import Adam,SGD\n",
    "from keras.utils.vis_utils import plot_model\n",
    "from keras.callbacks import ModelCheckpoint,EarlyStopping,TensorBoard,CSVLogger,ReduceLROnPlateau,LearningRateScheduler"
   ]
  },
  {
   "cell_type": "code",
   "execution_count": 7,
   "metadata": {},
   "outputs": [],
   "source": [
    "def show_final_history(history):\n",
    "    fig, ax = plt.subplots(1, 2, figsize=(15,5))\n",
    "    ax[0].set_title('loss')\n",
    "    ax[0].plot(history.epoch, history.history[\"loss\"], label=\"Train loss\")\n",
    "    ax[0].plot(history.epoch, history.history[\"val_loss\"], label=\"Validation loss\")\n",
    "    ax[1].set_title('acc')\n",
    "    ax[1].plot(history.epoch, history.history[\"acc\"], label=\"Train acc\")\n",
    "    ax[1].plot(history.epoch, history.history[\"val_acc\"], label=\"Validation acc\")\n",
    "    ax[0].legend()\n",
    "    ax[1].legend()"
   ]
  },
  {
   "cell_type": "code",
   "execution_count": 8,
   "metadata": {},
   "outputs": [],
   "source": [
    "def label_assignment(img,label):\n",
    "    return label\n",
    "\n",
    "def training_data(label,data_dir):\n",
    "    for img in tqdm(os.listdir(data_dir)):\n",
    "        label = label_assignment(img,label)\n",
    "        path = os.path.join(data_dir,img)\n",
    "        img = cv2.imread(path,cv2.IMREAD_COLOR)\n",
    "        img = cv2.resize(img,(imgsize,imgsize))\n",
    "        \n",
    "        X.append(np.array(img))\n",
    "        Z.append(str(label))"
   ]
  },
  {
   "cell_type": "code",
   "execution_count": null,
   "metadata": {},
   "outputs": [
    {
     "name": "stderr",
     "output_type": "stream",
     "text": [
      "100%|██████████| 136/136 [00:02<00:00, 65.98it/s]\n",
      "100%|██████████| 161/161 [00:02<00:00, 61.48it/s]\n",
      "100%|██████████| 372/372 [00:06<00:00, 59.82it/s]\n",
      "100%|██████████| 278/278 [00:03<00:00, 72.09it/s]\n",
      "100%|██████████| 181/181 [00:02<00:00, 72.69it/s]\n",
      "100%|██████████| 307/307 [00:06<00:00, 50.83it/s]\n",
      "100%|██████████| 298/298 [00:04<00:00, 70.30it/s]\n",
      "100%|██████████| 97/97 [00:01<00:00, 79.59it/s]\n",
      "100%|██████████| 110/110 [00:01<00:00, 82.45it/s]\n",
      "100%|██████████| 109/109 [00:01<00:00, 58.89it/s]\n",
      "100%|██████████| 185/185 [00:02<00:00, 72.67it/s]\n",
      "100%|██████████| 241/241 [00:03<00:00, 67.98it/s]\n",
      "100%|██████████| 302/302 [00:04<00:00, 69.97it/s]\n",
      "100%|██████████| 162/162 [00:02<00:00, 78.80it/s]\n",
      "100%|██████████| 168/168 [00:02<00:00, 78.88it/s]\n",
      "100%|██████████| 143/143 [00:01<00:00, 83.11it/s]\n",
      "100%|██████████| 172/172 [00:02<00:00, 80.70it/s]\n",
      " 17%|█▋        | 25/150 [00:00<00:01, 73.49it/s]"
     ]
    }
   ],
   "source": [
    "image_path = './Downloads/images/'\n",
    "\n",
    "beans = image_path+'BEANS'\n",
    "cake = image_path+'CAKE'\n",
    "candy = image_path+'CANDY'\n",
    "cereal = image_path+'CEREAL'\n",
    "chips = image_path+'CHIPS'\n",
    "chocolate = image_path+'CHOCOLATE'\n",
    "coffee = image_path+'COFFEE'\n",
    "corn = image_path+'CORN'\n",
    "fish = image_path+'FISH'\n",
    "flour = image_path+'FLOUR'\n",
    "honey = image_path+'HONEY'\n",
    "jam = image_path+'JAM'\n",
    "juice = image_path+'JUICE'\n",
    "milk = image_path+'MILK'\n",
    "nuts = image_path+'NUTS'\n",
    "oil = image_path+'OIL'\n",
    "pasta = image_path+'PASTA'\n",
    "rice = image_path+'RICE'\n",
    "soda = image_path+'SODA'\n",
    "spices = image_path+'SPICES'\n",
    "sugar = image_path+'SUGAR'\n",
    "tea = image_path+'TEA'\n",
    "tomato_sauce = image_path+'TOMATO_SAUCE'\n",
    "vinegar = image_path+'VINEGAR'\n",
    "water = image_path+'WATER'\n",
    "\n",
    "X = []\n",
    "Z = []\n",
    "imgsize = 150\n",
    "\n",
    "\n",
    "training_data('beans',beans)\n",
    "training_data('cake',cake)\n",
    "training_data('candy',candy)\n",
    "training_data('cereal',cereal)\n",
    "training_data('chips',chips)\n",
    "training_data('chocolate',chocolate)\n",
    "training_data('coffee',coffee)\n",
    "training_data('corn',corn)\n",
    "training_data('fish',fish)\n",
    "training_data('flour',flour)\n",
    "training_data('honey',honey)\n",
    "training_data('jam',jam)\n",
    "training_data('juice',juice)\n",
    "training_data('milk',milk)\n",
    "training_data('nuts',nuts)\n",
    "training_data('oil',oil)\n",
    "training_data('psata',pasta)\n",
    "training_data('rice',rice)\n",
    "training_data('soda',soda)\n",
    "training_data('spices',spices)\n",
    "training_data('sugar',sugar)\n",
    "training_data('tea',tea)\n",
    "training_data('tomato sauce',tomato_sauce)\n",
    "training_data('vinegar',vinegar)\n",
    "training_data('water',water)"
   ]
  },
  {
   "cell_type": "code",
   "execution_count": null,
   "metadata": {},
   "outputs": [],
   "source": [
    "label_encoder= LabelEncoder()\n",
    "Y = label_encoder.fit_transform(Z)\n",
    "Y = to_categorical(Y,25)\n",
    "X = np.array(X)\n",
    "X=X/255\n",
    "\n",
    "x_train,x_test,y_train,y_test = train_test_split(X,Y,test_size=0.2,random_state=42)"
   ]
  }
 ],
 "metadata": {
  "kernelspec": {
   "display_name": "Python 3",
   "language": "python",
   "name": "python3"
  },
  "language_info": {
   "codemirror_mode": {
    "name": "ipython",
    "version": 3
   },
   "file_extension": ".py",
   "mimetype": "text/x-python",
   "name": "python",
   "nbconvert_exporter": "python",
   "pygments_lexer": "ipython3",
   "version": "3.6.8"
  }
 },
 "nbformat": 4,
 "nbformat_minor": 2
}
